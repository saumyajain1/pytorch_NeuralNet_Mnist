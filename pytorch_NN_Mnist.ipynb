{
 "cells": [
  {
   "cell_type": "code",
   "execution_count": 1,
   "metadata": {},
   "outputs": [],
   "source": [
    "import torch\n",
    "import torch.nn as nn\n",
    "import torchvision\n",
    "import torchvision.transforms as transforms\n",
    "import matplotlib.pyplot as plt"
   ]
  },
  {
   "cell_type": "code",
   "execution_count": 2,
   "metadata": {},
   "outputs": [],
   "source": [
    "# Downloading the MNIST training and testing datasets\n",
    "train_dataset = torchvision.datasets.MNIST(root='data/', \n",
    "                                           train=True, \n",
    "                                           transform=transforms.ToTensor(),  \n",
    "                                           download=True)\n",
    "\n",
    "test_dataset = torchvision.datasets.MNIST(root='data/', \n",
    "                                          train=False, \n",
    "                                          transform=transforms.ToTensor())"
   ]
  },
  {
   "cell_type": "code",
   "execution_count": 3,
   "metadata": {},
   "outputs": [],
   "source": [
    "# Setting Hyper-parameters \n",
    "input_size = 784 # 28x28\n",
    "hidden_size = 500\n",
    "num_classes = 10 \n",
    "num_epochs = 10\n",
    "batch_size = 100\n",
    "learning_rate = 0.001"
   ]
  },
  {
   "cell_type": "code",
   "execution_count": 4,
   "metadata": {},
   "outputs": [],
   "source": [
    "# Data loader: loads batch_size of data on each iteration\n",
    "train_loader = torch.utils.data.DataLoader(dataset=train_dataset, \n",
    "                                           batch_size=batch_size, \n",
    "                                           shuffle=True)\n",
    "\n",
    "test_loader = torch.utils.data.DataLoader(dataset=test_dataset, \n",
    "                                          batch_size=batch_size, \n",
    "                                          shuffle=False)\n",
    "\n",
    "# examples = iter(train_loader)\n",
    "# example_data, example_targets = next(examples)\n",
    "\n",
    "# for i in range(6):\n",
    "#     plt.subplot(2,3,i+1)\n",
    "#     plt.imshow(example_data[i][0], cmap='gray')\n",
    "# plt.show()"
   ]
  },
  {
   "cell_type": "code",
   "execution_count": 5,
   "metadata": {},
   "outputs": [],
   "source": [
    "# Setting up the Model\n",
    "\n",
    "# Fully connected neural network with one hidden layer\n",
    "class NeuralNet(nn.Module):\n",
    "    \n",
    "    def __init__(self, input_size, hidden_size, num_classes):\n",
    "        super(NeuralNet, self).__init__()\n",
    "        self.l1 = nn.Linear(input_size, hidden_size) \n",
    "        self.relu = nn.ReLU()\n",
    "        self.l2 = nn.Linear(hidden_size, num_classes)  \n",
    "    \n",
    "    def forward(self, x):\n",
    "        out = self.l1(x)\n",
    "        out = self.relu(out)\n",
    "        out = self.l2(out)\n",
    "        return out\n",
    "\n",
    "model = NeuralNet(input_size, hidden_size, num_classes)\n",
    "\n",
    "# Loss and optimizer\n",
    "criterion = nn.CrossEntropyLoss()\n",
    "\n",
    "# The Adam optimizer is similar to SGD but with an adaptive learning rate that uses mean and variance of the gradient\n",
    "optimizer = torch.optim.Adam(model.parameters(), lr=learning_rate)"
   ]
  },
  {
   "cell_type": "code",
   "execution_count": 6,
   "metadata": {},
   "outputs": [
    {
     "name": "stdout",
     "output_type": "stream",
     "text": [
      "Epoch [1/10], Step [100/600], Loss: 0.2032\n",
      "Epoch [1/10], Step [200/600], Loss: 0.2205\n",
      "Epoch [1/10], Step [300/600], Loss: 0.1336\n",
      "Epoch [1/10], Step [400/600], Loss: 0.1175\n",
      "Epoch [1/10], Step [500/600], Loss: 0.0878\n",
      "Epoch [1/10], Step [600/600], Loss: 0.0714\n",
      "Epoch [2/10], Step [100/600], Loss: 0.0682\n",
      "Epoch [2/10], Step [200/600], Loss: 0.0654\n",
      "Epoch [2/10], Step [300/600], Loss: 0.0415\n",
      "Epoch [2/10], Step [400/600], Loss: 0.0510\n",
      "Epoch [2/10], Step [500/600], Loss: 0.0349\n",
      "Epoch [2/10], Step [600/600], Loss: 0.0862\n",
      "Epoch [3/10], Step [100/600], Loss: 0.0213\n",
      "Epoch [3/10], Step [200/600], Loss: 0.0224\n",
      "Epoch [3/10], Step [300/600], Loss: 0.0368\n",
      "Epoch [3/10], Step [400/600], Loss: 0.0218\n",
      "Epoch [3/10], Step [500/600], Loss: 0.0292\n",
      "Epoch [3/10], Step [600/600], Loss: 0.0616\n",
      "Epoch [4/10], Step [100/600], Loss: 0.0099\n",
      "Epoch [4/10], Step [200/600], Loss: 0.0772\n",
      "Epoch [4/10], Step [300/600], Loss: 0.0987\n",
      "Epoch [4/10], Step [400/600], Loss: 0.0068\n",
      "Epoch [4/10], Step [500/600], Loss: 0.0084\n",
      "Epoch [4/10], Step [600/600], Loss: 0.0155\n",
      "Epoch [5/10], Step [100/600], Loss: 0.0116\n",
      "Epoch [5/10], Step [200/600], Loss: 0.0076\n",
      "Epoch [5/10], Step [300/600], Loss: 0.0108\n",
      "Epoch [5/10], Step [400/600], Loss: 0.0013\n",
      "Epoch [5/10], Step [500/600], Loss: 0.0053\n",
      "Epoch [5/10], Step [600/600], Loss: 0.0037\n",
      "Epoch [6/10], Step [100/600], Loss: 0.0074\n",
      "Epoch [6/10], Step [200/600], Loss: 0.0221\n",
      "Epoch [6/10], Step [300/600], Loss: 0.0237\n",
      "Epoch [6/10], Step [400/600], Loss: 0.0289\n",
      "Epoch [6/10], Step [500/600], Loss: 0.0206\n",
      "Epoch [6/10], Step [600/600], Loss: 0.0255\n",
      "Epoch [7/10], Step [100/600], Loss: 0.0007\n",
      "Epoch [7/10], Step [200/600], Loss: 0.0110\n",
      "Epoch [7/10], Step [300/600], Loss: 0.0213\n",
      "Epoch [7/10], Step [400/600], Loss: 0.0027\n",
      "Epoch [7/10], Step [500/600], Loss: 0.0131\n",
      "Epoch [7/10], Step [600/600], Loss: 0.0068\n",
      "Epoch [8/10], Step [100/600], Loss: 0.0189\n",
      "Epoch [8/10], Step [200/600], Loss: 0.0521\n",
      "Epoch [8/10], Step [300/600], Loss: 0.0014\n",
      "Epoch [8/10], Step [400/600], Loss: 0.0712\n",
      "Epoch [8/10], Step [500/600], Loss: 0.0260\n",
      "Epoch [8/10], Step [600/600], Loss: 0.0068\n",
      "Epoch [9/10], Step [100/600], Loss: 0.0261\n",
      "Epoch [9/10], Step [200/600], Loss: 0.0065\n",
      "Epoch [9/10], Step [300/600], Loss: 0.0379\n",
      "Epoch [9/10], Step [400/600], Loss: 0.0244\n",
      "Epoch [9/10], Step [500/600], Loss: 0.0093\n",
      "Epoch [9/10], Step [600/600], Loss: 0.0088\n",
      "Epoch [10/10], Step [100/600], Loss: 0.0007\n",
      "Epoch [10/10], Step [200/600], Loss: 0.0035\n",
      "Epoch [10/10], Step [300/600], Loss: 0.0022\n",
      "Epoch [10/10], Step [400/600], Loss: 0.0009\n",
      "Epoch [10/10], Step [500/600], Loss: 0.0008\n",
      "Epoch [10/10], Step [600/600], Loss: 0.0049\n"
     ]
    }
   ],
   "source": [
    "# Train the model\n",
    "n_total_steps = len(train_loader)\n",
    "\n",
    "for epoch in range(num_epochs):\n",
    "    \n",
    "    for i, (images, labels) in enumerate(train_loader):  \n",
    "        # original shape: [100, 1, 28, 28], resized shape: [100, 784]. Setting up each image for the neural network\n",
    "        images = images.reshape(-1, 28*28)\n",
    "        \n",
    "        # Forward pass and loss calculation\n",
    "        outputs = model(images)\n",
    "        loss = criterion(outputs, labels)\n",
    "        \n",
    "        # Backpropagation for computing gradients and storing them in the parameters' grad attribute\n",
    "        loss.backward()\n",
    "\n",
    "        # Take 1 step of the optimizer(SGD in this case), updates the parameter values by subtracting lr*gradient \n",
    "        optimizer.step()\n",
    "\n",
    "        # reset the gradient for the next iteration\n",
    "        optimizer.zero_grad()\n",
    "        \n",
    "        if (i+1) % 100 == 0:\n",
    "            print (f'Epoch [{epoch+1}/{num_epochs}], Step [{i+1}/{n_total_steps}], Loss: {loss.item():.4f}')"
   ]
  },
  {
   "cell_type": "code",
   "execution_count": 7,
   "metadata": {},
   "outputs": [
    {
     "name": "stdout",
     "output_type": "stream",
     "text": [
      "Accuracy of the network on the 10000 test images: 98.28 %\n"
     ]
    }
   ],
   "source": [
    "# Test the model: we don't need to compute gradients\n",
    "with torch.no_grad():\n",
    "    n_correct = 0\n",
    "    n_samples = len(test_loader.dataset)\n",
    "\n",
    "    for images, labels in test_loader:\n",
    "        images = images.reshape(-1, 28*28)\n",
    "\n",
    "        outputs = model(images)\n",
    "\n",
    "        # max returns (output_value ,index)\n",
    "        _, predicted = torch.max(outputs, 1)\n",
    "        n_correct += (predicted == labels).sum().item()\n",
    "\n",
    "    acc = n_correct / n_samples\n",
    "    print(f'Accuracy of the network on the {n_samples} test images: {100*acc} %')"
   ]
  }
 ],
 "metadata": {
  "kernelspec": {
   "display_name": "Python 3",
   "language": "python",
   "name": "python3"
  },
  "language_info": {
   "codemirror_mode": {
    "name": "ipython",
    "version": 3
   },
   "file_extension": ".py",
   "mimetype": "text/x-python",
   "name": "python",
   "nbconvert_exporter": "python",
   "pygments_lexer": "ipython3",
   "version": "3.12.1"
  }
 },
 "nbformat": 4,
 "nbformat_minor": 2
}
